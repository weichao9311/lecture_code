{
 "cells": [
  {
   "cell_type": "markdown",
   "metadata": {},
   "source": [
    "# Pythonコードによる数式の確認\n",
    "\n",
    "## 例\n",
    "\n",
    "式\n",
    "$$\n",
    "\\sum_i a_i \\boldsymbol{x}_i = X \\boldsymbol{a}\n",
    "$$\n",
    "を確認するコード．\n",
    "ここで\n",
    "$X = [\\boldsymbol{x}_1, \\ldots, \\boldsymbol{x}_N],\n",
    "\\boldsymbol{x}_i \\in R^M$である．\n",
    "\n",
    "## 手順\n",
    "\n",
    "- $M \\times N$行列$X$をランダムに作成\n",
    "- $N$次元ベクトル$\\boldsymbol{a}$をランダムに作成\n",
    "- $i$列目`X[:, i]`を$\\boldsymbol{x}_i$とみなす\n",
    "- $X\\boldsymbol{a}$と$\\sum_i a_i \\boldsymbol{x}_i$をそれぞれ計算する．結果はベクトル（1次元array）\n",
    "- 2つのベクトルの差分ベクトルのノルムを求める\n",
    "- ノルムがfloat32の機械精度（machine epsilon）よりも小さければ，2つのベクトルは等しいとみなす\n",
    "\n"
   ]
  },
  {
   "cell_type": "code",
   "execution_count": 1,
   "metadata": {},
   "outputs": [
    {
     "name": "stdout",
     "output_type": "stream",
     "text": [
      "OK : 1.9860273225978185e-15 < 1.1920928955078125e-07\n"
     ]
    }
   ],
   "source": [
    "import numpy as np\n",
    "\n",
    "K, N = 10, 20\n",
    "X = np.random.rand(K, N)\n",
    "a = np.random.rand(N)\n",
    "\n",
    "# 右辺の実装\n",
    "Xa = X @ a # またはX.dot(a)\n",
    "\n",
    "# 左辺の実装\n",
    "result = np.zeros(K)\n",
    "for i in range(N):\n",
    "    result += a[i] * X[:,i]\n",
    "\n",
    "# 右辺と左辺の差分\n",
    "diff = np.linalg.norm(Xa - result)\n",
    "\n",
    "meps = np.finfo(np.float32).eps # 機械精度\n",
    "\n",
    "if diff < meps:\n",
    "    print(\"OK : {0} < {1}\".format(diff, meps))\n",
    "else:\n",
    "    print(\"OK : {0} < {1}\".format(diff, meps))\n"
   ]
  },
  {
   "cell_type": "markdown",
   "metadata": {},
   "source": [
    "## unittestを用いた例"
   ]
  },
  {
   "cell_type": "code",
   "execution_count": 2,
   "metadata": {},
   "outputs": [
    {
     "name": "stderr",
     "output_type": "stream",
     "text": [
      ".\n",
      "----------------------------------------------------------------------\n",
      "Ran 1 test in 1.472s\n",
      "\n",
      "OK\n"
     ]
    }
   ],
   "source": [
    "import numpy as np\n",
    "import unittest\n",
    "\n",
    "class TestMatmul(unittest.TestCase):\n",
    "       \n",
    "    def test_matmul(self):\n",
    "        for i in range(500):\n",
    "            M, N = np.random.randint(low=2, high=500, size=2)\n",
    "            X = np.random.rand(M, N)\n",
    "            a = np.random.rand(N)\n",
    "\n",
    "            rhs = X @ a\n",
    "\n",
    "            lhs = np.zeros(M)\n",
    "            for i in range(N):\n",
    "                lhs += a[i] * X[:,i]\n",
    "\n",
    "            self.assertTrue(np.isclose(rhs, lhs).all())\n",
    "\n",
    "if __name__ == '__main__':\n",
    "    unittest.main(argv=[''], exit=False)"
   ]
  },
  {
   "cell_type": "markdown",
   "metadata": {},
   "source": [
    "# Task\n",
    "\n",
    "同様の手順で，以下の数を，行列・ベクトルで表した式と比較して確認せよ．\n",
    "- $\\sum_i \\boldsymbol{x}_i \\boldsymbol{x}_i^T$\n",
    "- $\\sum_i \\boldsymbol{x}_i^T \\boldsymbol{x}_i$\n",
    "- $\\sum_i a_i \\boldsymbol{x}_i \\boldsymbol{x}_i^T$\n",
    "- $\\sum_{i,j} a_{ij} \\boldsymbol{x}_i \\boldsymbol{y}_i^T$"
   ]
  }
 ],
 "metadata": {
  "kernelspec": {
   "display_name": "Python 3",
   "language": "python",
   "name": "python3"
  },
  "language_info": {
   "codemirror_mode": {
    "name": "ipython",
    "version": 3
   },
   "file_extension": ".py",
   "mimetype": "text/x-python",
   "name": "python",
   "nbconvert_exporter": "python",
   "pygments_lexer": "ipython3",
   "version": "3.7.7"
  },
  "toc": {
   "base_numbering": 1,
   "nav_menu": {},
   "number_sections": true,
   "sideBar": true,
   "skip_h1_title": false,
   "title_cell": "Table of Contents",
   "title_sidebar": "Contents",
   "toc_cell": false,
   "toc_position": {},
   "toc_section_display": true,
   "toc_window_display": false
  }
 },
 "nbformat": 4,
 "nbformat_minor": 2
}
